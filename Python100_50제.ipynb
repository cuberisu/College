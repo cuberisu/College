{
  "nbformat": 4,
  "nbformat_minor": 0,
  "metadata": {
    "colab": {
      "name": "Python100_50제.ipynb",
      "provenance": [],
      "collapsed_sections": [],
      "toc_visible": true,
      "authorship_tag": "ABX9TyPqUxno3jkMD9zHX1n+iKp6",
      "include_colab_link": true
    },
    "kernelspec": {
      "name": "python3",
      "display_name": "Python 3"
    },
    "language_info": {
      "name": "python"
    }
  },
  "cells": [
    {
      "cell_type": "markdown",
      "metadata": {
        "id": "view-in-github",
        "colab_type": "text"
      },
      "source": [
        "<a href=\"https://colab.research.google.com/github/cuberisu/College/blob/main/Python100_50%EC%A0%9C.ipynb\" target=\"_parent\"><img src=\"https://colab.research.google.com/assets/colab-badge.svg\" alt=\"Open In Colab\"/></a>"
      ]
    },
    {
      "cell_type": "markdown",
      "metadata": {
        "id": "r9UIrGqpi-9e"
      },
      "source": [
        "# 1번 \n",
        "리스트의 삭제"
      ]
    },
    {
      "cell_type": "code",
      "metadata": {
        "id": "eEbW6uo_hBXc",
        "colab": {
          "base_uri": "https://localhost:8080/"
        },
        "outputId": "f0555b16-b2eb-426b-acee-6eb77d25d512"
      },
      "source": [
        "nums = [100, 200, 300, 400, 500]\n",
        "del nums[3] #0~4번째 요소 중 3번째, 즉 400을 없애라\n",
        "# del nums[4] 에러발생! 3번째 값을 지웠기 때문에 이제 4번째 값이 없어진 상태가 되었기 때문이다.\n",
        "nums #마지막 줄에 한해서 print를 안써도 출력된다."
      ],
      "execution_count": 14,
      "outputs": [
        {
          "output_type": "execute_result",
          "data": {
            "text/plain": [
              "[100, 200, 300, 500]"
            ]
          },
          "metadata": {
            "tags": []
          },
          "execution_count": 14
        }
      ]
    },
    {
      "cell_type": "code",
      "metadata": {
        "colab": {
          "base_uri": "https://localhost:8080/"
        },
        "id": "y4YS4Lv5i2ao",
        "outputId": "6db7a577-3e81-4646-c09b-ae5c2d55c4db"
      },
      "source": [
        "nums = [100, 200, 300, 400, 500]\n",
        "nums = nums[:3] #slice, 0부터 2까지 남기고 나머지는 자른다.\n",
        "print(nums)"
      ],
      "execution_count": 6,
      "outputs": [
        {
          "output_type": "stream",
          "text": [
            "[100, 200, 300]\n"
          ],
          "name": "stdout"
        }
      ]
    },
    {
      "cell_type": "code",
      "metadata": {
        "colab": {
          "base_uri": "https://localhost:8080/"
        },
        "id": "Cb1K-jMwkNjh",
        "outputId": "e162dcdc-31aa-4e43-fa47-793fe29f8f09"
      },
      "source": [
        "nums = [100, 200, 300, 400, 500]\n",
        "nums.pop() #0번째 요소 없애기\n",
        "nums.pop()\n",
        "print(nums)"
      ],
      "execution_count": 15,
      "outputs": [
        {
          "output_type": "stream",
          "text": [
            "[100, 200, 300]\n"
          ],
          "name": "stdout"
        }
      ]
    },
    {
      "cell_type": "code",
      "metadata": {
        "colab": {
          "base_uri": "https://localhost:8080/"
        },
        "id": "UNLxgjz7lA3d",
        "outputId": "c0b8b01e-cd98-4c5c-9cc0-99f0a27dcf43"
      },
      "source": [
        "nums = [100, 200, 300, 400, 500]\n",
        "print(dir(nums)) #해당 변수의 내장함수가 출력된다."
      ],
      "execution_count": 13,
      "outputs": [
        {
          "output_type": "stream",
          "text": [
            "['__add__', '__class__', '__contains__', '__delattr__', '__delitem__', '__dir__', '__doc__', '__eq__', '__format__', '__ge__', '__getattribute__', '__getitem__', '__gt__', '__hash__', '__iadd__', '__imul__', '__init__', '__init_subclass__', '__iter__', '__le__', '__len__', '__lt__', '__mul__', '__ne__', '__new__', '__reduce__', '__reduce_ex__', '__repr__', '__reversed__', '__rmul__', '__setattr__', '__setitem__', '__sizeof__', '__str__', '__subclasshook__', 'append', 'clear', 'copy', 'count', 'extend', 'index', 'insert', 'pop', 'remove', 'reverse', 'sort']\n"
          ],
          "name": "stdout"
        }
      ]
    },
    {
      "cell_type": "markdown",
      "metadata": {
        "id": "Kmjx1NBmlxJy"
      },
      "source": [
        "# 2번\n",
        "insert: list 중간에 요소 추가"
      ]
    },
    {
      "cell_type": "code",
      "metadata": {
        "colab": {
          "base_uri": "https://localhost:8080/"
        },
        "id": "iT-OuDzjluOq",
        "outputId": "d5b1d7f3-49b0-44f9-ff49-fbeaa32b4882"
      },
      "source": [
        "l = [200, 100, 300]\n",
        "l.insert(2, 10000) #2번째(300) 자리에 10000을 넣고 300은 없어지는 게 아니라 뒤로 밀려난다.\n",
        "print(l)"
      ],
      "execution_count": 17,
      "outputs": [
        {
          "output_type": "stream",
          "text": [
            "[200, 100, 10000, 300]\n"
          ],
          "name": "stdout"
        }
      ]
    },
    {
      "cell_type": "markdown",
      "metadata": {
        "id": "_h-lEITPnR41"
      },
      "source": [
        "# 3번\n",
        "변수의 타입 1: list"
      ]
    },
    {
      "cell_type": "code",
      "metadata": {
        "colab": {
          "base_uri": "https://localhost:8080/"
        },
        "id": "dJF0_vLynQm3",
        "outputId": "908e36a5-6974-4053-ec32-fd1c5ab4b7cb"
      },
      "source": [
        "l = [200, 100, 300]\n",
        "print(type(l))\n",
        "print(dir(l))"
      ],
      "execution_count": 19,
      "outputs": [
        {
          "output_type": "stream",
          "text": [
            "<class 'list'>\n",
            "['__add__', '__class__', '__contains__', '__delattr__', '__delitem__', '__dir__', '__doc__', '__eq__', '__format__', '__ge__', '__getattribute__', '__getitem__', '__gt__', '__hash__', '__iadd__', '__imul__', '__init__', '__init_subclass__', '__iter__', '__le__', '__len__', '__lt__', '__mul__', '__ne__', '__new__', '__reduce__', '__reduce_ex__', '__repr__', '__reversed__', '__rmul__', '__setattr__', '__setitem__', '__sizeof__', '__str__', '__subclasshook__', 'append', 'clear', 'copy', 'count', 'extend', 'index', 'insert', 'pop', 'remove', 'reverse', 'sort']\n"
          ],
          "name": "stdout"
        }
      ]
    },
    {
      "cell_type": "markdown",
      "metadata": {
        "id": "95r0y44Cnrpo"
      },
      "source": [
        "# 4번\n",
        "변수의 타입 2: str"
      ]
    },
    {
      "cell_type": "code",
      "metadata": {
        "colab": {
          "base_uri": "https://localhost:8080/"
        },
        "id": "hVuJcGfknqc8",
        "outputId": "8a8626d5-84b0-47c5-9ec3-9e7742e64894"
      },
      "source": [
        "a = '''Hello World'''\n",
        "print(type(a))"
      ],
      "execution_count": 21,
      "outputs": [
        {
          "output_type": "stream",
          "text": [
            "<class 'str'>\n"
          ],
          "name": "stdout"
        }
      ]
    },
    {
      "cell_type": "markdown",
      "metadata": {
        "id": "D8Im4yOAoKAS"
      },
      "source": [
        "# 5번\n",
        "for 문 계산"
      ]
    },
    {
      "cell_type": "code",
      "metadata": {
        "colab": {
          "base_uri": "https://localhost:8080/"
        },
        "id": "XXUFApCAoJJR",
        "outputId": "32cd450e-1fbd-4e0d-af13-f183cbc58e59"
      },
      "source": [
        "a = 10\n",
        "b = 2\n",
        "for i in range(1, 5, 2): #1부터 4까지, 2씩 증가. \n",
        "# range()함수는 수의 범위와 증감을 정해두면 규칙적인 수 집합으로 만들어주는 함수\n",
        "  a += i\n",
        "\n",
        "print(a + b)"
      ],
      "execution_count": 24,
      "outputs": [
        {
          "output_type": "stream",
          "text": [
            "16\n"
          ],
          "name": "stdout"
        }
      ]
    },
    {
      "cell_type": "markdown",
      "metadata": {
        "id": "A1y-sWYcrHMa"
      },
      "source": [
        "# 6번\n",
        "False"
      ]
    },
    {
      "cell_type": "code",
      "metadata": {
        "colab": {
          "base_uri": "https://localhost:8080/"
        },
        "id": "HtPsOBlooYvc",
        "outputId": "72bac268-64ff-47a9-8c7b-ddef49fae63d"
      },
      "source": [
        "print(bool(\" \")) #스페이스바 누르면 True\n",
        "print(bool(\"\"))\n",
        "print(bool([\"\",\"\"])) #,가 있기 때문에 True\n",
        "print(bool([]))\n",
        "print(bool(None))"
      ],
      "execution_count": 27,
      "outputs": [
        {
          "output_type": "stream",
          "text": [
            "True\n",
            "False\n",
            "True\n",
            "False\n",
            "False\n"
          ],
          "name": "stdout"
        }
      ]
    },
    {
      "cell_type": "markdown",
      "metadata": {
        "id": "ybG8xXQnrz1m"
      },
      "source": [
        "# 7번\n",
        "변수명"
      ]
    },
    {
      "cell_type": "code",
      "metadata": {
        "colab": {
          "base_uri": "https://localhost:8080/"
        },
        "id": "ic9pAPKyryhR",
        "outputId": "db462695-7cb5-468c-c682-2a95df5693f8"
      },
      "source": [
        "# 1a = 100 이거는 에러발생\n",
        "한글 = 100 #한글 변수도 된다.\n",
        "print(한글)\n",
        "beautiful_is_better_than_ugly = 200 #스네이크 표기법\n",
        "beautifulIsBetterThanUgly = 300 #카멜식 표기법\n",
        "_ = 400 #그냥 언더바도 된다! 실제로도 많이 쓴다고..."
      ],
      "execution_count": 30,
      "outputs": [
        {
          "output_type": "stream",
          "text": [
            "100\n"
          ],
          "name": "stdout"
        }
      ]
    },
    {
      "cell_type": "markdown",
      "metadata": {
        "id": "45H207xkua5x"
      },
      "source": [
        "# 8번\n",
        "딕셔너리 키 이름 중복"
      ]
    },
    {
      "cell_type": "code",
      "metadata": {
        "colab": {
          "base_uri": "https://localhost:8080/"
        },
        "id": "jhOzFzdXuQ4o",
        "outputId": "d911fec8-beee-49b1-905e-9c39456deae4"
      },
      "source": [
        "d = {'height':180, 'weight':78, 'weight':84, 'temperature':36, 'eyesight':1}\n",
        "print(d['weight']) #중복된 이름이 있으면 나중의 것 또는 새로 입력된 것이 출력된다."
      ],
      "execution_count": 31,
      "outputs": [
        {
          "output_type": "stream",
          "text": [
            "84\n"
          ],
          "name": "stdout"
        }
      ]
    },
    {
      "cell_type": "code",
      "metadata": {
        "colab": {
          "base_uri": "https://localhost:8080/"
        },
        "id": "y2onTeDsvTHQ",
        "outputId": "4dc6b0b2-3597-4ecc-c0b8-7062cca4c777"
      },
      "source": [
        "print(d) #요소들이 입력된 순서대로 나타난다."
      ],
      "execution_count": 32,
      "outputs": [
        {
          "output_type": "stream",
          "text": [
            "{'height': 180, 'weight': 84, 'temperature': 36, 'eyesight': 1}\n"
          ],
          "name": "stdout"
        }
      ]
    },
    {
      "cell_type": "code",
      "metadata": {
        "colab": {
          "base_uri": "https://localhost:8080/"
        },
        "id": "-i1qSpQOveKY",
        "outputId": "c67186c0-6c48-4248-9a53-66ef91e81f97"
      },
      "source": [
        "d #알파벳 순으로 나타난다."
      ],
      "execution_count": 33,
      "outputs": [
        {
          "output_type": "execute_result",
          "data": {
            "text/plain": [
              "{'eyesight': 1, 'height': 180, 'temperature': 36, 'weight': 84}"
            ]
          },
          "metadata": {
            "tags": []
          },
          "execution_count": 33
        }
      ]
    },
    {
      "cell_type": "code",
      "metadata": {
        "colab": {
          "base_uri": "https://localhost:8080/"
        },
        "id": "icI8LkT1vjAB",
        "outputId": "989b23a8-ee92-428f-aaf1-8477db66049c"
      },
      "source": [
        "!python -V #파이썬 버전 체크"
      ],
      "execution_count": 34,
      "outputs": [
        {
          "output_type": "stream",
          "text": [
            "Python 3.7.10\n"
          ],
          "name": "stdout"
        }
      ]
    },
    {
      "cell_type": "code",
      "metadata": {
        "colab": {
          "base_uri": "https://localhost:8080/"
        },
        "id": "AOyeHLdOvtgP",
        "outputId": "0920a45e-23e4-4369-93fa-77d3637bb87c"
      },
      "source": [
        "d['weight'] = 1000\n",
        "print(d) #weight 값이 1000으로 출력된다."
      ],
      "execution_count": 36,
      "outputs": [
        {
          "output_type": "stream",
          "text": [
            "{'height': 180, 'weight': 1000, 'temperature': 36, 'eyesight': 1}\n"
          ],
          "name": "stdout"
        }
      ]
    },
    {
      "cell_type": "code",
      "metadata": {
        "colab": {
          "base_uri": "https://localhost:8080/"
        },
        "id": "fjmN7npTv5Ua",
        "outputId": "5bffb619-481e-47b5-8ab7-517d5a733f44"
      },
      "source": [
        "d['aa'] = 1000\n",
        "print(d) #나중에 추가한 요소가 마지막에 출력된다."
      ],
      "execution_count": 37,
      "outputs": [
        {
          "output_type": "stream",
          "text": [
            "{'height': 180, 'weight': 1000, 'temperature': 36, 'eyesight': 1, 'aa': 1000}\n"
          ],
          "name": "stdout"
        }
      ]
    },
    {
      "cell_type": "code",
      "metadata": {
        "colab": {
          "base_uri": "https://localhost:8080/"
        },
        "id": "lZ6e9RtxwIXC",
        "outputId": "e9c49ef3-314d-41de-ef89-3bb995c176c9"
      },
      "source": [
        "for i in d:\n",
        "  print(i)"
      ],
      "execution_count": 38,
      "outputs": [
        {
          "output_type": "stream",
          "text": [
            "height\n",
            "weight\n",
            "temperature\n",
            "eyesight\n",
            "aa\n"
          ],
          "name": "stdout"
        }
      ]
    },
    {
      "cell_type": "markdown",
      "metadata": {
        "id": "mm5-4d60wZ62"
      },
      "source": [
        "# 9번\n",
        "sep과 end를 활용한 출력 방법"
      ]
    },
    {
      "cell_type": "code",
      "metadata": {
        "colab": {
          "base_uri": "https://localhost:8080/"
        },
        "id": "Pvcr6zdZwU1T",
        "outputId": "1de119a5-a8c7-4e38-dee9-7f5e133200f8"
      },
      "source": [
        "year = '2019'\n",
        "month = '04'\n",
        "day = '26'\n",
        "hour = '11'\n",
        "minute = '34'\n",
        "second = '27'\n",
        "\n",
        "print(year, month, day)\n",
        "print(hour, minute, second)"
      ],
      "execution_count": 39,
      "outputs": [
        {
          "output_type": "stream",
          "text": [
            "2019 04 26\n",
            "11 34 27\n"
          ],
          "name": "stdout"
        }
      ]
    },
    {
      "cell_type": "code",
      "metadata": {
        "colab": {
          "base_uri": "https://localhost:8080/"
        },
        "id": "DfEcyizxwz9Y",
        "outputId": "11dfe4b1-46dd-44fc-8773-6d9151342dad"
      },
      "source": [
        "print(year, month, day, end=\"\\t\") #기본값은 \\n, \\t로 하면 tap이 된다. escape 문자\n",
        "print(hour, minute, second)"
      ],
      "execution_count": 40,
      "outputs": [
        {
          "output_type": "stream",
          "text": [
            "2019 04 26\t11 34 27\n"
          ],
          "name": "stdout"
        }
      ]
    },
    {
      "cell_type": "code",
      "metadata": {
        "colab": {
          "base_uri": "https://localhost:8080/"
        },
        "id": "3TU7Ll6ixNHI",
        "outputId": "270a481d-458f-4f59-d5c2-bc53e290c554"
      },
      "source": [
        "print(year, month, day, end=' ', sep='/') #sep: 문자열 중간에 삽입\n",
        "print(hour, minute, second, sep=':')"
      ],
      "execution_count": 42,
      "outputs": [
        {
          "output_type": "stream",
          "text": [
            "2019/04/26 11:34:27\n"
          ],
          "name": "stdout"
        }
      ]
    },
    {
      "cell_type": "markdown",
      "metadata": {
        "id": "2HW85rsKxr9Y"
      },
      "source": [
        "# 10번\n",
        "\n",
        "```\n",
        "    *\n",
        "   ***\n",
        "  ***** \n",
        " *******\n",
        "********* \n",
        "```"
      ]
    },
    {
      "cell_type": "code",
      "metadata": {
        "colab": {
          "base_uri": "https://localhost:8080/"
        },
        "id": "-0NuTX9Pxf2j",
        "outputId": "deb926d9-aee8-424d-b89a-cbcbe544c9a5"
      },
      "source": [
        "'''\n",
        "이건 제가 짠 코드예요...... 복잡하다\n",
        "4 1\n",
        "3 3\n",
        "2 5\n",
        "1 7\n",
        "0 9\n",
        "'''\n",
        "width = 5\n",
        "for i in range(1, 6):         # 총 5줄이 나옵니다.\n",
        "\n",
        "  for j in range(1, width):   # 공백을 입력합니다.\n",
        "    print(end=' ')\n",
        "\n",
        "  width -=1                   # 줄이 넘어갈 때마다 공백이 1개씩 줄어듭니다.\n",
        "  print(\"*\", end='')          # *이 홀수 개이기 때문에 기본적으로 하나 입력해둡니다. \n",
        "                              # print()에 개행이 기본적으로 있기 때문에 제거해야 합니다.\n",
        "\n",
        "  for k in range(1, i):       # 2번째 줄부터 별이 2, 4, 6, 8개 출력됩니다.\n",
        "    print(\"**\", end='')\n",
        "\n",
        "  print(end=\"\\n\")             # 한 줄이 끝나면 개행을 입력합니다.\n"
      ],
      "execution_count": 81,
      "outputs": [
        {
          "output_type": "stream",
          "text": [
            "    *\n",
            "   ***\n",
            "  *****\n",
            " *******\n",
            "*********\n"
          ],
          "name": "stdout"
        }
      ]
    },
    {
      "cell_type": "code",
      "metadata": {
        "colab": {
          "base_uri": "https://localhost:8080/"
        },
        "id": "UY_fkC5R7y_s",
        "outputId": "fe12abf2-86c0-45be-83a2-6d1a97f25bdc"
      },
      "source": [
        "n = 5\n",
        "for i in range(1, n+1):\n",
        "  #print(n-i, 2i-1)\n",
        "  print(' '*(n-i) + '*'*(2*i-1))"
      ],
      "execution_count": 83,
      "outputs": [
        {
          "output_type": "stream",
          "text": [
            "    *\n",
            "   ***\n",
            "  *****\n",
            " *******\n",
            "*********\n"
          ],
          "name": "stdout"
        }
      ]
    }
  ]
}