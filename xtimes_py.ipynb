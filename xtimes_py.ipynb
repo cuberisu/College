{
  "nbformat": 4,
  "nbformat_minor": 0,
  "metadata": {
    "colab": {
      "name": "xtimes.py",
      "provenance": [],
      "authorship_tag": "ABX9TyOsbsHG7rfenIGjH3aZ+0ut",
      "include_colab_link": true
    },
    "kernelspec": {
      "name": "python3",
      "display_name": "Python 3"
    },
    "language_info": {
      "name": "python"
    }
  },
  "cells": [
    {
      "cell_type": "markdown",
      "metadata": {
        "id": "view-in-github",
        "colab_type": "text"
      },
      "source": [
        "<a href=\"https://colab.research.google.com/github/cuberisu/College/blob/main/xtimes_py.ipynb\" target=\"_parent\"><img src=\"https://colab.research.google.com/assets/colab-badge.svg\" alt=\"Open In Colab\"/></a>"
      ]
    },
    {
      "cell_type": "code",
      "metadata": {
        "colab": {
          "base_uri": "https://localhost:8080/"
        },
        "id": "xNjH3_7E7uLQ",
        "outputId": "0369d2f9-304a-421c-e1fa-a0276b69889b"
      },
      "source": [
        "print(\"18단 \\n\")  \n",
        "# \\n을 따옴표 안에 넣으면 줄 개행으로 쓸 수 있음\n",
        "\n",
        "for i in range(1, 19):  # 1부터 18까지\n",
        "  print(str(i)+\"단\")  # i단 출력\n",
        "\n",
        "  for j in range(1,19):  # 1부터 18까지\n",
        "    print(i*j,end=\" \")  # i*j 결과값 출력 \n",
        "        # 마지막은 자동개행없이 띄어쓰기로 마무리\n",
        "\n",
        "  print(\"\\n\")  # i단 끝나고 줄 개행"
      ],
      "execution_count": 22,
      "outputs": [
        {
          "output_type": "stream",
          "name": "stdout",
          "text": [
            "18단 \n",
            "\n",
            "1단\n",
            "1 2 3 4 5 6 7 8 9 10 11 12 13 14 15 16 17 18 \n",
            "\n",
            "2단\n",
            "2 4 6 8 10 12 14 16 18 20 22 24 26 28 30 32 34 36 \n",
            "\n",
            "3단\n",
            "3 6 9 12 15 18 21 24 27 30 33 36 39 42 45 48 51 54 \n",
            "\n",
            "4단\n",
            "4 8 12 16 20 24 28 32 36 40 44 48 52 56 60 64 68 72 \n",
            "\n",
            "5단\n",
            "5 10 15 20 25 30 35 40 45 50 55 60 65 70 75 80 85 90 \n",
            "\n",
            "6단\n",
            "6 12 18 24 30 36 42 48 54 60 66 72 78 84 90 96 102 108 \n",
            "\n",
            "7단\n",
            "7 14 21 28 35 42 49 56 63 70 77 84 91 98 105 112 119 126 \n",
            "\n",
            "8단\n",
            "8 16 24 32 40 48 56 64 72 80 88 96 104 112 120 128 136 144 \n",
            "\n",
            "9단\n",
            "9 18 27 36 45 54 63 72 81 90 99 108 117 126 135 144 153 162 \n",
            "\n",
            "10단\n",
            "10 20 30 40 50 60 70 80 90 100 110 120 130 140 150 160 170 180 \n",
            "\n",
            "11단\n",
            "11 22 33 44 55 66 77 88 99 110 121 132 143 154 165 176 187 198 \n",
            "\n",
            "12단\n",
            "12 24 36 48 60 72 84 96 108 120 132 144 156 168 180 192 204 216 \n",
            "\n",
            "13단\n",
            "13 26 39 52 65 78 91 104 117 130 143 156 169 182 195 208 221 234 \n",
            "\n",
            "14단\n",
            "14 28 42 56 70 84 98 112 126 140 154 168 182 196 210 224 238 252 \n",
            "\n",
            "15단\n",
            "15 30 45 60 75 90 105 120 135 150 165 180 195 210 225 240 255 270 \n",
            "\n",
            "16단\n",
            "16 32 48 64 80 96 112 128 144 160 176 192 208 224 240 256 272 288 \n",
            "\n",
            "17단\n",
            "17 34 51 68 85 102 119 136 153 170 187 204 221 238 255 272 289 306 \n",
            "\n",
            "18단\n",
            "18 36 54 72 90 108 126 144 162 180 198 216 234 252 270 288 306 324 \n",
            "\n"
          ]
        }
      ]
    }
  ]
}